{
 "cells": [
  {
   "cell_type": "markdown",
   "metadata": {
    "colab_type": "text",
    "id": "SFB9KTcq0Ds9"
   },
   "source": [
    "# Pandas Dataframes\n",
    "\n",
    "© Explore Data Science Academy"
   ]
  },
  {
   "cell_type": "markdown",
   "metadata": {
    "colab_type": "text",
    "id": "egIVm6JD0DtA"
   },
   "source": [
    "## Instructions to Students\n",
    "- **Do not add or remove cells in this notebook. Do not edit or remove the `### START FUNCTION` or `### END FUNCTION` comments. Do not add any code outside of the functions you are required to edit. Doing any of this will lead to a mark of 0%!**\n",
    "- Answer the questions according to the specifications provided.\n",
    "- Use the given cell in each question to to see if your function matches the expected outputs.\n",
    "- Do not hard-code answers to the questions.\n",
    "- The use of stackoverflow, google, and other online tools are permitted. However, copying fellow student's code is not permissible and is considered a breach of the Honour code below. Doing this will result in a mark of 0%.\n",
    "- Good luck, and may the force be with you!"
   ]
  },
  {
   "cell_type": "markdown",
   "metadata": {
    "colab_type": "text",
    "id": "nZ28Pnqr-2mJ"
   },
   "source": [
    "## Honour Code"
   ]
  },
  {
   "cell_type": "markdown",
   "metadata": {
    "colab_type": "text",
    "id": "_ObyZuV4-2mP"
   },
   "source": [
    "I **Tracy, Mutugi**, confirm - by submitting this document - that the solutions in this notebook are a result of my own work and that I abide by the   <a href=\"https://drive.google.com/open?id=1FXCIf425JLRx3JQi-ltSWppj8BCF3Np1\" target=\"_blank\">EDSA Student Manifesto</a>.\n",
    "\n",
    "Non-compliance with the honour code constitutes a material breach of contract."
   ]
  },
  {
   "cell_type": "markdown",
   "metadata": {
    "colab_type": "text",
    "id": "gih-1A-M1Asb"
   },
   "source": [
    "### Import the required libraries"
   ]
  },
  {
   "cell_type": "code",
   "execution_count": 0,
   "metadata": {
    "colab": {},
    "colab_type": "code",
    "id": "Xbx3sonl0DtQ"
   },
   "outputs": [],
   "source": [
    "import numpy as np\n",
    "import pandas as pd"
   ]
  },
  {
   "cell_type": "markdown",
   "metadata": {
    "colab_type": "text",
    "id": "RdiqP7Ub0Dtj"
   },
   "source": [
    "### Data"
   ]
  },
  {
   "cell_type": "markdown",
   "metadata": {
    "colab_type": "text",
    "id": "AhEA7vFs0Dtk"
   },
   "source": [
    "You will need these dataframes in order to answer the following questions."
   ]
  },
  {
   "cell_type": "code",
   "execution_count": 0,
   "metadata": {
    "colab": {},
    "colab_type": "code",
    "id": "2oz6vt1R0Dtl"
   },
   "outputs": [],
   "source": [
    "country_map_df = pd.read_csv('https://raw.githubusercontent.com/Explore-AI/Public-Data/master/AnalyseProject/country_code_map.csv', index_col='Country Code')\n",
    "population_df = pd.read_csv('https://raw.githubusercontent.com/Explore-AI/Public-Data/master/AnalyseProject/world_population.csv', index_col='Country Code')\n",
    "meta_df = pd.read_csv('https://raw.githubusercontent.com/Explore-AI/Public-Data/master/AnalyseProject/metadata.csv', index_col='Country Code')"
   ]
  },
  {
   "cell_type": "markdown",
   "metadata": {
    "colab_type": "text",
    "id": "z7R0dAeG0Dtm"
   },
   "source": [
    "_**Dataframe specifications:**_\n",
    "\n",
    "The dataframes provide information about the population of the world for various years. Some things to note:\n",
    "* All dataframes have a `Country Code` as an index, which is a three letter code referring to a country.\n",
    "* The `country_map_df` data maps the `Country Code` to a `Country Name`.\n",
    "* The `population_df` data contains information on the population for a given country between the years of 1960 and 2017.\n",
    "* The `meta_df` data contains meta information about each country, including it's geographical region, it's income group, and a comment on the country as a whole."
   ]
  },
  {
   "cell_type": "code",
   "execution_count": 4,
   "metadata": {
    "colab": {
     "base_uri": "https://localhost:8080/",
     "height": 237
    },
    "colab_type": "code",
    "id": "37JrsGFN0Dtn",
    "outputId": "e7344059-0a33-463b-a1f4-6f60d5bc3994"
   },
   "outputs": [
    {
     "data": {
      "text/html": [
       "<div>\n",
       "<style scoped>\n",
       "    .dataframe tbody tr th:only-of-type {\n",
       "        vertical-align: middle;\n",
       "    }\n",
       "\n",
       "    .dataframe tbody tr th {\n",
       "        vertical-align: top;\n",
       "    }\n",
       "\n",
       "    .dataframe thead th {\n",
       "        text-align: right;\n",
       "    }\n",
       "</style>\n",
       "<table border=\"1\" class=\"dataframe\">\n",
       "  <thead>\n",
       "    <tr style=\"text-align: right;\">\n",
       "      <th></th>\n",
       "      <th>Country Name</th>\n",
       "    </tr>\n",
       "    <tr>\n",
       "      <th>Country Code</th>\n",
       "      <th></th>\n",
       "    </tr>\n",
       "  </thead>\n",
       "  <tbody>\n",
       "    <tr>\n",
       "      <th>ABW</th>\n",
       "      <td>Aruba</td>\n",
       "    </tr>\n",
       "    <tr>\n",
       "      <th>AFG</th>\n",
       "      <td>Afghanistan</td>\n",
       "    </tr>\n",
       "    <tr>\n",
       "      <th>AGO</th>\n",
       "      <td>Angola</td>\n",
       "    </tr>\n",
       "    <tr>\n",
       "      <th>ALB</th>\n",
       "      <td>Albania</td>\n",
       "    </tr>\n",
       "    <tr>\n",
       "      <th>AND</th>\n",
       "      <td>Andorra</td>\n",
       "    </tr>\n",
       "  </tbody>\n",
       "</table>\n",
       "</div>"
      ],
      "text/plain": [
       "             Country Name\n",
       "Country Code             \n",
       "ABW                 Aruba\n",
       "AFG           Afghanistan\n",
       "AGO                Angola\n",
       "ALB               Albania\n",
       "AND               Andorra"
      ]
     },
     "execution_count": 4,
     "metadata": {
      "tags": []
     },
     "output_type": "execute_result"
    }
   ],
   "source": [
    "country_map_df.head()"
   ]
  },
  {
   "cell_type": "code",
   "execution_count": 5,
   "metadata": {
    "colab": {
     "base_uri": "https://localhost:8080/",
     "height": 275
    },
    "colab_type": "code",
    "id": "NurMGfHb0Dtr",
    "outputId": "3da63456-4da4-40fb-d256-06b865370532"
   },
   "outputs": [
    {
     "data": {
      "text/html": [
       "<div>\n",
       "<style scoped>\n",
       "    .dataframe tbody tr th:only-of-type {\n",
       "        vertical-align: middle;\n",
       "    }\n",
       "\n",
       "    .dataframe tbody tr th {\n",
       "        vertical-align: top;\n",
       "    }\n",
       "\n",
       "    .dataframe thead th {\n",
       "        text-align: right;\n",
       "    }\n",
       "</style>\n",
       "<table border=\"1\" class=\"dataframe\">\n",
       "  <thead>\n",
       "    <tr style=\"text-align: right;\">\n",
       "      <th></th>\n",
       "      <th>1960</th>\n",
       "      <th>1961</th>\n",
       "      <th>1962</th>\n",
       "      <th>1963</th>\n",
       "      <th>1964</th>\n",
       "      <th>1965</th>\n",
       "      <th>1966</th>\n",
       "      <th>1967</th>\n",
       "      <th>1968</th>\n",
       "      <th>1969</th>\n",
       "      <th>1970</th>\n",
       "      <th>1971</th>\n",
       "      <th>1972</th>\n",
       "      <th>1973</th>\n",
       "      <th>1974</th>\n",
       "      <th>1975</th>\n",
       "      <th>1976</th>\n",
       "      <th>1977</th>\n",
       "      <th>1978</th>\n",
       "      <th>1979</th>\n",
       "      <th>1980</th>\n",
       "      <th>1981</th>\n",
       "      <th>1982</th>\n",
       "      <th>1983</th>\n",
       "      <th>1984</th>\n",
       "      <th>1985</th>\n",
       "      <th>1986</th>\n",
       "      <th>1987</th>\n",
       "      <th>1988</th>\n",
       "      <th>1989</th>\n",
       "      <th>1990</th>\n",
       "      <th>1991</th>\n",
       "      <th>1992</th>\n",
       "      <th>1993</th>\n",
       "      <th>1994</th>\n",
       "      <th>1995</th>\n",
       "      <th>1996</th>\n",
       "      <th>1997</th>\n",
       "      <th>1998</th>\n",
       "      <th>1999</th>\n",
       "      <th>2000</th>\n",
       "      <th>2001</th>\n",
       "      <th>2002</th>\n",
       "      <th>2003</th>\n",
       "      <th>2004</th>\n",
       "      <th>2005</th>\n",
       "      <th>2006</th>\n",
       "      <th>2007</th>\n",
       "      <th>2008</th>\n",
       "      <th>2009</th>\n",
       "      <th>2010</th>\n",
       "      <th>2011</th>\n",
       "      <th>2012</th>\n",
       "      <th>2013</th>\n",
       "      <th>2014</th>\n",
       "      <th>2015</th>\n",
       "      <th>2016</th>\n",
       "      <th>2017</th>\n",
       "    </tr>\n",
       "    <tr>\n",
       "      <th>Country Code</th>\n",
       "      <th></th>\n",
       "      <th></th>\n",
       "      <th></th>\n",
       "      <th></th>\n",
       "      <th></th>\n",
       "      <th></th>\n",
       "      <th></th>\n",
       "      <th></th>\n",
       "      <th></th>\n",
       "      <th></th>\n",
       "      <th></th>\n",
       "      <th></th>\n",
       "      <th></th>\n",
       "      <th></th>\n",
       "      <th></th>\n",
       "      <th></th>\n",
       "      <th></th>\n",
       "      <th></th>\n",
       "      <th></th>\n",
       "      <th></th>\n",
       "      <th></th>\n",
       "      <th></th>\n",
       "      <th></th>\n",
       "      <th></th>\n",
       "      <th></th>\n",
       "      <th></th>\n",
       "      <th></th>\n",
       "      <th></th>\n",
       "      <th></th>\n",
       "      <th></th>\n",
       "      <th></th>\n",
       "      <th></th>\n",
       "      <th></th>\n",
       "      <th></th>\n",
       "      <th></th>\n",
       "      <th></th>\n",
       "      <th></th>\n",
       "      <th></th>\n",
       "      <th></th>\n",
       "      <th></th>\n",
       "      <th></th>\n",
       "      <th></th>\n",
       "      <th></th>\n",
       "      <th></th>\n",
       "      <th></th>\n",
       "      <th></th>\n",
       "      <th></th>\n",
       "      <th></th>\n",
       "      <th></th>\n",
       "      <th></th>\n",
       "      <th></th>\n",
       "      <th></th>\n",
       "      <th></th>\n",
       "      <th></th>\n",
       "      <th></th>\n",
       "      <th></th>\n",
       "      <th></th>\n",
       "      <th></th>\n",
       "    </tr>\n",
       "  </thead>\n",
       "  <tbody>\n",
       "    <tr>\n",
       "      <th>ABW</th>\n",
       "      <td>54211.0</td>\n",
       "      <td>55438.0</td>\n",
       "      <td>56225.0</td>\n",
       "      <td>56695.0</td>\n",
       "      <td>57032.0</td>\n",
       "      <td>57360.0</td>\n",
       "      <td>57715.0</td>\n",
       "      <td>58055.0</td>\n",
       "      <td>58386.0</td>\n",
       "      <td>58726.0</td>\n",
       "      <td>59063.0</td>\n",
       "      <td>59440.0</td>\n",
       "      <td>59840.0</td>\n",
       "      <td>60243.0</td>\n",
       "      <td>60528.0</td>\n",
       "      <td>60657.0</td>\n",
       "      <td>60586.0</td>\n",
       "      <td>60366.0</td>\n",
       "      <td>60103.0</td>\n",
       "      <td>59980.0</td>\n",
       "      <td>60096.0</td>\n",
       "      <td>60567.0</td>\n",
       "      <td>61345.0</td>\n",
       "      <td>62201.0</td>\n",
       "      <td>62836.0</td>\n",
       "      <td>63026.0</td>\n",
       "      <td>62644.0</td>\n",
       "      <td>61833.0</td>\n",
       "      <td>61079.0</td>\n",
       "      <td>61032.0</td>\n",
       "      <td>62149.0</td>\n",
       "      <td>64622.0</td>\n",
       "      <td>68235.0</td>\n",
       "      <td>72504.0</td>\n",
       "      <td>76700.0</td>\n",
       "      <td>80324.0</td>\n",
       "      <td>83200.0</td>\n",
       "      <td>85451.0</td>\n",
       "      <td>87277.0</td>\n",
       "      <td>89005.0</td>\n",
       "      <td>90853.0</td>\n",
       "      <td>92898.0</td>\n",
       "      <td>94992.0</td>\n",
       "      <td>97017.0</td>\n",
       "      <td>98737.0</td>\n",
       "      <td>100031.0</td>\n",
       "      <td>100832.0</td>\n",
       "      <td>101220.0</td>\n",
       "      <td>101353.0</td>\n",
       "      <td>101453.0</td>\n",
       "      <td>101669.0</td>\n",
       "      <td>102053.0</td>\n",
       "      <td>102577.0</td>\n",
       "      <td>103187.0</td>\n",
       "      <td>103795.0</td>\n",
       "      <td>104341.0</td>\n",
       "      <td>104822.0</td>\n",
       "      <td>105264.0</td>\n",
       "    </tr>\n",
       "    <tr>\n",
       "      <th>AFG</th>\n",
       "      <td>8996351.0</td>\n",
       "      <td>9166764.0</td>\n",
       "      <td>9345868.0</td>\n",
       "      <td>9533954.0</td>\n",
       "      <td>9731361.0</td>\n",
       "      <td>9938414.0</td>\n",
       "      <td>10152331.0</td>\n",
       "      <td>10372630.0</td>\n",
       "      <td>10604346.0</td>\n",
       "      <td>10854428.0</td>\n",
       "      <td>11126123.0</td>\n",
       "      <td>11417825.0</td>\n",
       "      <td>11721940.0</td>\n",
       "      <td>12027822.0</td>\n",
       "      <td>12321541.0</td>\n",
       "      <td>12590286.0</td>\n",
       "      <td>12840299.0</td>\n",
       "      <td>13067538.0</td>\n",
       "      <td>13237734.0</td>\n",
       "      <td>13306695.0</td>\n",
       "      <td>13248370.0</td>\n",
       "      <td>13053954.0</td>\n",
       "      <td>12749645.0</td>\n",
       "      <td>12389269.0</td>\n",
       "      <td>12047115.0</td>\n",
       "      <td>11783050.0</td>\n",
       "      <td>11601041.0</td>\n",
       "      <td>11502761.0</td>\n",
       "      <td>11540888.0</td>\n",
       "      <td>11777609.0</td>\n",
       "      <td>12249114.0</td>\n",
       "      <td>12993657.0</td>\n",
       "      <td>13981231.0</td>\n",
       "      <td>15095099.0</td>\n",
       "      <td>16172719.0</td>\n",
       "      <td>17099541.0</td>\n",
       "      <td>17822884.0</td>\n",
       "      <td>18381605.0</td>\n",
       "      <td>18863999.0</td>\n",
       "      <td>19403676.0</td>\n",
       "      <td>20093756.0</td>\n",
       "      <td>20966463.0</td>\n",
       "      <td>21979923.0</td>\n",
       "      <td>23064851.0</td>\n",
       "      <td>24118979.0</td>\n",
       "      <td>25070798.0</td>\n",
       "      <td>25893450.0</td>\n",
       "      <td>26616792.0</td>\n",
       "      <td>27294031.0</td>\n",
       "      <td>28004331.0</td>\n",
       "      <td>28803167.0</td>\n",
       "      <td>29708599.0</td>\n",
       "      <td>30696958.0</td>\n",
       "      <td>31731688.0</td>\n",
       "      <td>32758020.0</td>\n",
       "      <td>33736494.0</td>\n",
       "      <td>34656032.0</td>\n",
       "      <td>35530081.0</td>\n",
       "    </tr>\n",
       "    <tr>\n",
       "      <th>AGO</th>\n",
       "      <td>5643182.0</td>\n",
       "      <td>5753024.0</td>\n",
       "      <td>5866061.0</td>\n",
       "      <td>5980417.0</td>\n",
       "      <td>6093321.0</td>\n",
       "      <td>6203299.0</td>\n",
       "      <td>6309770.0</td>\n",
       "      <td>6414995.0</td>\n",
       "      <td>6523791.0</td>\n",
       "      <td>6642632.0</td>\n",
       "      <td>6776381.0</td>\n",
       "      <td>6927269.0</td>\n",
       "      <td>7094834.0</td>\n",
       "      <td>7277960.0</td>\n",
       "      <td>7474338.0</td>\n",
       "      <td>7682479.0</td>\n",
       "      <td>7900997.0</td>\n",
       "      <td>8130988.0</td>\n",
       "      <td>8376147.0</td>\n",
       "      <td>8641521.0</td>\n",
       "      <td>8929900.0</td>\n",
       "      <td>9244507.0</td>\n",
       "      <td>9582156.0</td>\n",
       "      <td>9931562.0</td>\n",
       "      <td>10277321.0</td>\n",
       "      <td>10609042.0</td>\n",
       "      <td>10921037.0</td>\n",
       "      <td>11218268.0</td>\n",
       "      <td>11513968.0</td>\n",
       "      <td>11827237.0</td>\n",
       "      <td>12171441.0</td>\n",
       "      <td>12553446.0</td>\n",
       "      <td>12968345.0</td>\n",
       "      <td>13403734.0</td>\n",
       "      <td>13841301.0</td>\n",
       "      <td>14268994.0</td>\n",
       "      <td>14682284.0</td>\n",
       "      <td>15088981.0</td>\n",
       "      <td>15504318.0</td>\n",
       "      <td>15949766.0</td>\n",
       "      <td>16440924.0</td>\n",
       "      <td>16983266.0</td>\n",
       "      <td>17572649.0</td>\n",
       "      <td>18203369.0</td>\n",
       "      <td>18865716.0</td>\n",
       "      <td>19552542.0</td>\n",
       "      <td>20262399.0</td>\n",
       "      <td>20997687.0</td>\n",
       "      <td>21759420.0</td>\n",
       "      <td>22549547.0</td>\n",
       "      <td>23369131.0</td>\n",
       "      <td>24218565.0</td>\n",
       "      <td>25096150.0</td>\n",
       "      <td>25998340.0</td>\n",
       "      <td>26920466.0</td>\n",
       "      <td>27859305.0</td>\n",
       "      <td>28813463.0</td>\n",
       "      <td>29784193.0</td>\n",
       "    </tr>\n",
       "    <tr>\n",
       "      <th>ALB</th>\n",
       "      <td>1608800.0</td>\n",
       "      <td>1659800.0</td>\n",
       "      <td>1711319.0</td>\n",
       "      <td>1762621.0</td>\n",
       "      <td>1814135.0</td>\n",
       "      <td>1864791.0</td>\n",
       "      <td>1914573.0</td>\n",
       "      <td>1965598.0</td>\n",
       "      <td>2022272.0</td>\n",
       "      <td>2081695.0</td>\n",
       "      <td>2135479.0</td>\n",
       "      <td>2187853.0</td>\n",
       "      <td>2243126.0</td>\n",
       "      <td>2296752.0</td>\n",
       "      <td>2350124.0</td>\n",
       "      <td>2404831.0</td>\n",
       "      <td>2458526.0</td>\n",
       "      <td>2513546.0</td>\n",
       "      <td>2566266.0</td>\n",
       "      <td>2617832.0</td>\n",
       "      <td>2671997.0</td>\n",
       "      <td>2726056.0</td>\n",
       "      <td>2784278.0</td>\n",
       "      <td>2843960.0</td>\n",
       "      <td>2904429.0</td>\n",
       "      <td>2964762.0</td>\n",
       "      <td>3022635.0</td>\n",
       "      <td>3083605.0</td>\n",
       "      <td>3142336.0</td>\n",
       "      <td>3227943.0</td>\n",
       "      <td>3286542.0</td>\n",
       "      <td>3266790.0</td>\n",
       "      <td>3247039.0</td>\n",
       "      <td>3227287.0</td>\n",
       "      <td>3207536.0</td>\n",
       "      <td>3187784.0</td>\n",
       "      <td>3168033.0</td>\n",
       "      <td>3148281.0</td>\n",
       "      <td>3128530.0</td>\n",
       "      <td>3108778.0</td>\n",
       "      <td>3089027.0</td>\n",
       "      <td>3060173.0</td>\n",
       "      <td>3051010.0</td>\n",
       "      <td>3039616.0</td>\n",
       "      <td>3026939.0</td>\n",
       "      <td>3011487.0</td>\n",
       "      <td>2992547.0</td>\n",
       "      <td>2970017.0</td>\n",
       "      <td>2947314.0</td>\n",
       "      <td>2927519.0</td>\n",
       "      <td>2913021.0</td>\n",
       "      <td>2905195.0</td>\n",
       "      <td>2900401.0</td>\n",
       "      <td>2895092.0</td>\n",
       "      <td>2889104.0</td>\n",
       "      <td>2880703.0</td>\n",
       "      <td>2876101.0</td>\n",
       "      <td>2873457.0</td>\n",
       "    </tr>\n",
       "    <tr>\n",
       "      <th>AND</th>\n",
       "      <td>13411.0</td>\n",
       "      <td>14375.0</td>\n",
       "      <td>15370.0</td>\n",
       "      <td>16412.0</td>\n",
       "      <td>17469.0</td>\n",
       "      <td>18549.0</td>\n",
       "      <td>19647.0</td>\n",
       "      <td>20758.0</td>\n",
       "      <td>21890.0</td>\n",
       "      <td>23058.0</td>\n",
       "      <td>24276.0</td>\n",
       "      <td>25559.0</td>\n",
       "      <td>26892.0</td>\n",
       "      <td>28232.0</td>\n",
       "      <td>29520.0</td>\n",
       "      <td>30705.0</td>\n",
       "      <td>31777.0</td>\n",
       "      <td>32771.0</td>\n",
       "      <td>33737.0</td>\n",
       "      <td>34818.0</td>\n",
       "      <td>36067.0</td>\n",
       "      <td>37500.0</td>\n",
       "      <td>39114.0</td>\n",
       "      <td>40867.0</td>\n",
       "      <td>42706.0</td>\n",
       "      <td>44600.0</td>\n",
       "      <td>46517.0</td>\n",
       "      <td>48455.0</td>\n",
       "      <td>50434.0</td>\n",
       "      <td>52448.0</td>\n",
       "      <td>54509.0</td>\n",
       "      <td>56671.0</td>\n",
       "      <td>58888.0</td>\n",
       "      <td>60971.0</td>\n",
       "      <td>62677.0</td>\n",
       "      <td>63850.0</td>\n",
       "      <td>64360.0</td>\n",
       "      <td>64327.0</td>\n",
       "      <td>64142.0</td>\n",
       "      <td>64370.0</td>\n",
       "      <td>65390.0</td>\n",
       "      <td>67341.0</td>\n",
       "      <td>70049.0</td>\n",
       "      <td>73182.0</td>\n",
       "      <td>76244.0</td>\n",
       "      <td>78867.0</td>\n",
       "      <td>80991.0</td>\n",
       "      <td>82683.0</td>\n",
       "      <td>83861.0</td>\n",
       "      <td>84462.0</td>\n",
       "      <td>84449.0</td>\n",
       "      <td>83751.0</td>\n",
       "      <td>82431.0</td>\n",
       "      <td>80788.0</td>\n",
       "      <td>79223.0</td>\n",
       "      <td>78014.0</td>\n",
       "      <td>77281.0</td>\n",
       "      <td>76965.0</td>\n",
       "    </tr>\n",
       "  </tbody>\n",
       "</table>\n",
       "</div>"
      ],
      "text/plain": [
       "                   1960       1961  ...        2016        2017\n",
       "Country Code                        ...                        \n",
       "ABW             54211.0    55438.0  ...    104822.0    105264.0\n",
       "AFG           8996351.0  9166764.0  ...  34656032.0  35530081.0\n",
       "AGO           5643182.0  5753024.0  ...  28813463.0  29784193.0\n",
       "ALB           1608800.0  1659800.0  ...   2876101.0   2873457.0\n",
       "AND             13411.0    14375.0  ...     77281.0     76965.0\n",
       "\n",
       "[5 rows x 58 columns]"
      ]
     },
     "execution_count": 5,
     "metadata": {
      "tags": []
     },
     "output_type": "execute_result"
    }
   ],
   "source": [
    "population_df.head()"
   ]
  },
  {
   "cell_type": "code",
   "execution_count": 6,
   "metadata": {
    "colab": {
     "base_uri": "https://localhost:8080/",
     "height": 237
    },
    "colab_type": "code",
    "id": "7cDrniDb0Dtv",
    "outputId": "e87ed933-9cd6-451b-f355-27632e4d4c03"
   },
   "outputs": [
    {
     "data": {
      "text/html": [
       "<div>\n",
       "<style scoped>\n",
       "    .dataframe tbody tr th:only-of-type {\n",
       "        vertical-align: middle;\n",
       "    }\n",
       "\n",
       "    .dataframe tbody tr th {\n",
       "        vertical-align: top;\n",
       "    }\n",
       "\n",
       "    .dataframe thead th {\n",
       "        text-align: right;\n",
       "    }\n",
       "</style>\n",
       "<table border=\"1\" class=\"dataframe\">\n",
       "  <thead>\n",
       "    <tr style=\"text-align: right;\">\n",
       "      <th></th>\n",
       "      <th>Region</th>\n",
       "      <th>Income Group</th>\n",
       "      <th>Special Notes</th>\n",
       "    </tr>\n",
       "    <tr>\n",
       "      <th>Country Code</th>\n",
       "      <th></th>\n",
       "      <th></th>\n",
       "      <th></th>\n",
       "    </tr>\n",
       "  </thead>\n",
       "  <tbody>\n",
       "    <tr>\n",
       "      <th>ABW</th>\n",
       "      <td>Latin America &amp; Caribbean</td>\n",
       "      <td>High income</td>\n",
       "      <td>Mining is included in agriculture\\r\\r\\r\\nElect...</td>\n",
       "    </tr>\n",
       "    <tr>\n",
       "      <th>AFG</th>\n",
       "      <td>South Asia</td>\n",
       "      <td>Low income</td>\n",
       "      <td>Fiscal year end: March 20; reporting period fo...</td>\n",
       "    </tr>\n",
       "    <tr>\n",
       "      <th>AGO</th>\n",
       "      <td>Sub-Saharan Africa</td>\n",
       "      <td>Lower middle income</td>\n",
       "      <td>NaN</td>\n",
       "    </tr>\n",
       "    <tr>\n",
       "      <th>ALB</th>\n",
       "      <td>Europe &amp; Central Asia</td>\n",
       "      <td>Upper middle income</td>\n",
       "      <td>NaN</td>\n",
       "    </tr>\n",
       "    <tr>\n",
       "      <th>AND</th>\n",
       "      <td>Europe &amp; Central Asia</td>\n",
       "      <td>High income</td>\n",
       "      <td>WB-3 code changed from ADO to AND to align wit...</td>\n",
       "    </tr>\n",
       "  </tbody>\n",
       "</table>\n",
       "</div>"
      ],
      "text/plain": [
       "                                 Region  ...                                      Special Notes\n",
       "Country Code                             ...                                                   \n",
       "ABW           Latin America & Caribbean  ...  Mining is included in agriculture\\r\\r\\r\\nElect...\n",
       "AFG                          South Asia  ...  Fiscal year end: March 20; reporting period fo...\n",
       "AGO                  Sub-Saharan Africa  ...                                                NaN\n",
       "ALB               Europe & Central Asia  ...                                                NaN\n",
       "AND               Europe & Central Asia  ...  WB-3 code changed from ADO to AND to align wit...\n",
       "\n",
       "[5 rows x 3 columns]"
      ]
     },
     "execution_count": 6,
     "metadata": {
      "tags": []
     },
     "output_type": "execute_result"
    }
   ],
   "source": [
    "meta_df.head()"
   ]
  },
  {
   "cell_type": "markdown",
   "metadata": {
    "colab_type": "text",
    "id": "NcJurJI40Dtz"
   },
   "source": [
    "Using this information, answer the questions below:"
   ]
  },
  {
   "cell_type": "markdown",
   "metadata": {
    "colab_type": "text",
    "id": "l37sEhN30Dt3"
   },
   "source": [
    "### Question 1"
   ]
  },
  {
   "cell_type": "markdown",
   "metadata": {
    "colab_type": "text",
    "id": "YGhWhAeF0Dt4"
   },
   "source": [
    "Write a function that returns the summed population total in a given geographic region for a given year.\n",
    "\n",
    "_**Function Specifications:**_\n",
    "* Should take as input a year as an `int` and region as a `str`.\n",
    "* Should return an `int` corresponding to the population."
   ]
  },
  {
   "cell_type": "code",
   "execution_count": 0,
   "metadata": {
    "colab": {},
    "colab_type": "code",
    "id": "Btuv14i00Dt5"
   },
   "outputs": [],
   "source": [
    "### START FUNCTION\n",
    "def total_pop_in_region(year,region):\n",
    "  popdata1_df = population_df.copy(deep=True)\n",
    "  metadata1_df = meta_df.copy(deep=True)\n",
    "\n",
    "  popdata1_df['Region'] = metadata1_df['Region']\n",
    "      \n",
    "  output1 = popdata1_df[popdata1_df['Region'].str.contains(region)].sum()\n",
    "  return output1[str(year)]\n",
    "\n",
    "### END FUNCTION"
   ]
  },
  {
   "cell_type": "code",
   "execution_count": 8,
   "metadata": {
    "colab": {
     "base_uri": "https://localhost:8080/",
     "height": 36
    },
    "colab_type": "code",
    "id": "-qtPbGVu-2nl",
    "outputId": "96c5da31-094e-457e-e146-e38c3b8ccbf5"
   },
   "outputs": [
    {
     "data": {
      "text/plain": [
       "1029332591.0"
      ]
     },
     "execution_count": 8,
     "metadata": {
      "tags": []
     },
     "output_type": "execute_result"
    }
   ],
   "source": [
    "total_pop_in_region(1960,'East Asia & Pacific')"
   ]
  },
  {
   "cell_type": "markdown",
   "metadata": {
    "colab_type": "text",
    "id": "59mi51LI0Dt9"
   },
   "source": [
    "_**Expected Outputs:**_\n",
    "```python\n",
    "total_pop_in_region(1960,'East Asia & Pacific') == 1029332591.0\n",
    "total_pop_in_region(1970,'South Asia') == 712740919.0\n",
    "```"
   ]
  },
  {
   "cell_type": "markdown",
   "metadata": {
    "colab_type": "text",
    "id": "16UnKFjY0Dt-"
   },
   "source": [
    "### Question 2"
   ]
  },
  {
   "cell_type": "markdown",
   "metadata": {
    "colab_type": "text",
    "id": "HQUrDLmN0Dt-"
   },
   "source": [
    "Write a function that returns the global yearly population `Growth`, grouped by the `Income Group` and `Year`.\n",
    "\n",
    "_**Function Specifications**_\n",
    "* Should not take any inputs.\n",
    "* The years are currently presented as the heading of each row in the population table. The table will have to be melted to produce the appropriate format. You can use `df.melt` to do this, where the variable name should be `Year` and the value name should be `Growth`.\n",
    "* Should group by the `Year` and `Income Group`.\n",
    "* Should only have one column named `Growth`.\n",
    "* The `Income Group` and the `Year` should be indices.\n",
    "* The `Growth` is calculated by taking the yearly difference and dividing it by the total population for each year, multiplied by 100.\n",
    "* Should return a `DataFrame`."
   ]
  },
  {
   "cell_type": "code",
   "execution_count": 0,
   "metadata": {
    "colab": {},
    "colab_type": "code",
    "id": "nVTFZhv80Dt_"
   },
   "outputs": [],
   "source": [
    "### START FUNCTION\n",
    "def population_difference_by_income():\n",
    "  popdata2_df = population_df.copy(deep=True)\n",
    "  metadata2_df = meta_df.copy(deep=True)\n",
    "  popdata2_df['Income Group'] = metadata2_df['Income Group']\n",
    "\n",
    "  new_df = popdata2_df.reset_index()\n",
    "  #new_df.head()\n",
    "\n",
    "  new_melt = pd.melt(new_df, id_vars = ['Country Code', 'Income Group'], var_name = 'Year', value_name = 'POP-Growth')\n",
    "  #new_melt\n",
    "\n",
    "  ##GROUPBY METHOD\n",
    "  new_group = new_melt.groupby(['Income Group','Year'])['POP-Growth'].sum()\n",
    "  #new_group\n",
    "  new_group2 = pd.DataFrame(new_group)\n",
    "  #new_group2\n",
    "\n",
    "  new_group2['pop-growth_shift'] = new_group2['POP-Growth'].shift(1)\n",
    "  new_group2['Growth'] = (new_group2['POP-Growth']-new_group2['pop-growth_shift'])/new_group2['POP-Growth']*100\n",
    "  #new_group2\n",
    "\n",
    "  new_group3 = new_group2.drop(columns=['POP-Growth', 'pop-growth_shift'])\n",
    "  \n",
    "  return new_group3\n",
    "\n",
    "### END FUNCTION"
   ]
  },
  {
   "cell_type": "code",
   "execution_count": 10,
   "metadata": {
    "colab": {
     "base_uri": "https://localhost:8080/",
     "height": 237
    },
    "colab_type": "code",
    "id": "BtOJ2TD50DuB",
    "outputId": "0e24a21e-26a3-4ed2-fc5c-5c5b821a6f42"
   },
   "outputs": [
    {
     "data": {
      "text/html": [
       "<div>\n",
       "<style scoped>\n",
       "    .dataframe tbody tr th:only-of-type {\n",
       "        vertical-align: middle;\n",
       "    }\n",
       "\n",
       "    .dataframe tbody tr th {\n",
       "        vertical-align: top;\n",
       "    }\n",
       "\n",
       "    .dataframe thead th {\n",
       "        text-align: right;\n",
       "    }\n",
       "</style>\n",
       "<table border=\"1\" class=\"dataframe\">\n",
       "  <thead>\n",
       "    <tr style=\"text-align: right;\">\n",
       "      <th></th>\n",
       "      <th></th>\n",
       "      <th>Growth</th>\n",
       "    </tr>\n",
       "    <tr>\n",
       "      <th>Income Group</th>\n",
       "      <th>Year</th>\n",
       "      <th></th>\n",
       "    </tr>\n",
       "  </thead>\n",
       "  <tbody>\n",
       "    <tr>\n",
       "      <th rowspan=\"5\" valign=\"top\">High income</th>\n",
       "      <th>1960</th>\n",
       "      <td>NaN</td>\n",
       "    </tr>\n",
       "    <tr>\n",
       "      <th>1961</th>\n",
       "      <td>1.450978</td>\n",
       "    </tr>\n",
       "    <tr>\n",
       "      <th>1962</th>\n",
       "      <td>1.261630</td>\n",
       "    </tr>\n",
       "    <tr>\n",
       "      <th>1963</th>\n",
       "      <td>1.235893</td>\n",
       "    </tr>\n",
       "    <tr>\n",
       "      <th>1964</th>\n",
       "      <td>1.207633</td>\n",
       "    </tr>\n",
       "  </tbody>\n",
       "</table>\n",
       "</div>"
      ],
      "text/plain": [
       "                     Growth\n",
       "Income Group Year          \n",
       "High income  1960       NaN\n",
       "             1961  1.450978\n",
       "             1962  1.261630\n",
       "             1963  1.235893\n",
       "             1964  1.207633"
      ]
     },
     "execution_count": 10,
     "metadata": {
      "tags": []
     },
     "output_type": "execute_result"
    }
   ],
   "source": [
    "population_difference_by_income().head()"
   ]
  },
  {
   "cell_type": "markdown",
   "metadata": {
    "colab_type": "text",
    "id": "wd85_rAq0DuE"
   },
   "source": [
    "_**Expected Output:**_\n",
    "```python\n",
    "population_difference_by_income().head()\n",
    "```\n",
    "> <table class=\"dataframe\" border=\"1\">\n",
    "  <thead>\n",
    "    <tr style=\"text-align: right;\">\n",
    "      <th></th>\n",
    "      <th></th>\n",
    "      <th>Growth</th>\n",
    "    </tr>\n",
    "    <tr>\n",
    "      <th>Income Group</th>\n",
    "      <th>Year</th>\n",
    "      <th></th>\n",
    "    </tr>\n",
    "  </thead>\n",
    "  <tbody>\n",
    "    <tr>\n",
    "      <th rowspan=\"5\" valign=\"top\">High income</th>\n",
    "      <th>1960</th>\n",
    "      <td>NaN</td>\n",
    "    </tr>\n",
    "    <tr>\n",
    "      <th>1961</th>\n",
    "      <td>1.450978</td>\n",
    "    </tr>\n",
    "    <tr>\n",
    "      <th>1962</th>\n",
    "      <td>1.261630</td>\n",
    "    </tr>\n",
    "    <tr>\n",
    "      <th>1963</th>\n",
    "      <td>1.235893</td>\n",
    "    </tr>\n",
    "    <tr>\n",
    "      <th>1964</th>\n",
    "      <td>1.207633</td>\n",
    "    </tr>\n",
    "  </tbody>\n",
    "</table>"
   ]
  },
  {
   "cell_type": "markdown",
   "metadata": {
    "colab_type": "text",
    "id": "zsbrEdbt0DuE"
   },
   "source": [
    "### Question 3"
   ]
  },
  {
   "cell_type": "markdown",
   "metadata": {
    "colab_type": "text",
    "id": "_8k_6SkK0DuE"
   },
   "source": [
    "Using the function you just created, write a function that returns the average population _growth_ over all years for a given income group. \n",
    "\n",
    "_**Function Specifications:**_\n",
    "* Should take as input a `str` as the income group.\n",
    "* Should raise a `ValueError` if the input is not a valid income group.\n",
    "* Should return a `float`, rounded to 2 decimal places."
   ]
  },
  {
   "cell_type": "code",
   "execution_count": 0,
   "metadata": {
    "colab": {},
    "colab_type": "code",
    "id": "4nXUTodI0DuF"
   },
   "outputs": [],
   "source": [
    "### START FUNCTION\n",
    "def ave_growth_by_income(income_group):\n",
    "  ##STEP 1 previous function\n",
    "  popdata2_df = population_df.copy(deep=True)\n",
    "  metadata2_df = meta_df.copy(deep=True)\n",
    "  popdata2_df['Income Group'] = metadata2_df['Income Group']\n",
    "\n",
    "  new_df = popdata2_df.reset_index()\n",
    "  #new_df.head()\n",
    "\n",
    "  new_melt = pd.melt(new_df, id_vars = ['Country Code', 'Income Group'], var_name = 'Year', value_name = 'POP-Growth')\n",
    "  #new_melt\n",
    "\n",
    "  ##GROUPBY METHOD\n",
    "  new_group = new_melt.groupby(['Income Group','Year'])['POP-Growth'].sum()\n",
    "  #new_group\n",
    "  new_group2 = pd.DataFrame(new_group)\n",
    "  #new_group2\n",
    "\n",
    "  new_group2['pop-growth_shift'] = new_group2['POP-Growth'].shift(1)\n",
    "  new_group2['Growth'] = (new_group2['POP-Growth']-new_group2['pop-growth_shift'])/new_group2['POP-Growth']*100\n",
    "  #new_group2\n",
    "\n",
    "  new_group3 = new_group2.drop(columns=['POP-Growth', 'pop-growth_shift'])\n",
    "  new_group3.loc['Lower middle income','1960']['Growth'] = np.nan\n",
    "  new_group3.loc['Low income','1960']['Growth'] = np.nan\n",
    "  new_group3.loc['Upper middle income','1960']['Growth'] = np.nan\n",
    "\n",
    "  mean_growth = new_group3.groupby('Income Group')['Growth'].mean()\n",
    "  mean_growth_df = pd.DataFrame(mean_growth)\n",
    "  #mean_growth_df\n",
    "\n",
    "  ##STEP 2\n",
    "  if str(income_group) not in mean_growth.index:\n",
    "      raise ValueError(income_group + '-' + 'is an invalid income group')\n",
    "\n",
    "  output1 = mean_growth_df.loc[str(income_group)]['Growth']\n",
    "  output3 = round(output1, 2)\n",
    "  return output3\n",
    "\n",
    "### END FUNCTION"
   ]
  },
  {
   "cell_type": "code",
   "execution_count": 14,
   "metadata": {
    "colab": {
     "base_uri": "https://localhost:8080/",
     "height": 36
    },
    "colab_type": "code",
    "id": "T2oUb4LV0DuH",
    "outputId": "20814ce9-65a2-429a-de3d-82ba71117ce0"
   },
   "outputs": [
    {
     "data": {
      "text/plain": [
       "2.55"
      ]
     },
     "execution_count": 14,
     "metadata": {
      "tags": []
     },
     "output_type": "execute_result"
    }
   ],
   "source": [
    "ave_growth_by_income('Low income')"
   ]
  },
  {
   "cell_type": "markdown",
   "metadata": {
    "colab_type": "text",
    "id": "qZoeNbMx0DuP"
   },
   "source": [
    "_**Expected Outputs:**_\n",
    "```python\n",
    "ave_growth_by_income('High income') == 0.81\n",
    "ave_growth_by_income('Low income') == 2.55\n",
    "```"
   ]
  },
  {
   "cell_type": "code",
   "execution_count": 0,
   "metadata": {
    "colab": {},
    "colab_type": "code",
    "id": "Vweey6K30DuP"
   },
   "outputs": [],
   "source": []
  }
 ],
 "metadata": {
  "colab": {
   "collapsed_sections": [],
   "name": "OG_pandas_dataframes_student_version-1455.ipynb",
   "provenance": []
  },
  "kernelspec": {
   "display_name": "Python 3",
   "language": "python",
   "name": "python3"
  },
  "language_info": {
   "codemirror_mode": {
    "name": "ipython",
    "version": 3
   },
   "file_extension": ".py",
   "mimetype": "text/x-python",
   "name": "python",
   "nbconvert_exporter": "python",
   "pygments_lexer": "ipython3",
   "version": "3.8.5"
  }
 },
 "nbformat": 4,
 "nbformat_minor": 1
}
